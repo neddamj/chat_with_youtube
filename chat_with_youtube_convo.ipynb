{
  "nbformat": 4,
  "nbformat_minor": 0,
  "metadata": {
    "colab": {
      "provenance": [],
      "authorship_tag": "ABX9TyPeY6TqB1L5i4WUJfFsM+mj",
      "include_colab_link": true
    },
    "kernelspec": {
      "name": "python3",
      "display_name": "Python 3"
    },
    "language_info": {
      "name": "python"
    }
  },
  "cells": [
    {
      "cell_type": "markdown",
      "metadata": {
        "id": "view-in-github",
        "colab_type": "text"
      },
      "source": [
        "<a href=\"https://colab.research.google.com/github/neddamj/chat_with_youtube/blob/main/chat_with_youtube_convo.ipynb\" target=\"_parent\"><img src=\"https://colab.research.google.com/assets/colab-badge.svg\" alt=\"Open In Colab\"/></a>"
      ]
    },
    {
      "cell_type": "code",
      "execution_count": null,
      "metadata": {
        "id": "oHr0vvJIDP1h"
      },
      "outputs": [],
      "source": [
        "! pip install pytube librosa pydub transformers accelerate bitsandbytes langchain sentence-transformers faiss-gpu"
      ]
    },
    {
      "cell_type": "markdown",
      "source": [
        "# Import Dependencies"
      ],
      "metadata": {
        "id": "25pMvO6xDeAe"
      }
    },
    {
      "cell_type": "code",
      "source": [
        "from pytube import YouTube\n",
        "import os\n",
        "\n",
        "from IPython.display import Audio, display\n",
        "import numpy as np\n",
        "import librosa\n",
        "\n",
        "import torch\n",
        "from transformers import (\n",
        "  AutoConfig,\n",
        "  AutoTokenizer,\n",
        "  AutoProcessor,\n",
        "  AutoModelForCausalLM,\n",
        "  AutoModelForSpeechSeq2Seq,\n",
        "  BitsAndBytesConfig,\n",
        "  pipeline\n",
        ")\n",
        "\n",
        "from langchain.text_splitter import CharacterTextSplitter\n",
        "from langchain.document_loaders import AsyncChromiumLoader\n",
        "from langchain.document_transformers import Html2TextTransformer\n",
        "from langchain.embeddings.huggingface import HuggingFaceEmbeddings\n",
        "from langchain.vectorstores import FAISS\n",
        "from langchain.llms import HuggingFacePipeline\n",
        "from langchain.prompts import PromptTemplate\n",
        "from langchain.chains import LLMChain\n",
        "from langchain.schema.runnable import RunnablePassthrough"
      ],
      "metadata": {
        "id": "i1-b9xa3DZJi"
      },
      "execution_count": null,
      "outputs": []
    },
    {
      "cell_type": "markdown",
      "source": [
        "# Load the audio from the YouTube video"
      ],
      "metadata": {
        "id": "Lx-pw4ssDgmR"
      }
    },
    {
      "cell_type": "code",
      "source": [
        "def download_wav(video_path: str):\n",
        "  video = YouTube(video_path)\n",
        "  out_path = video.streams.filter(only_audio = True).first().download()\n",
        "  new_name = os.path.splitext(out_path)\n",
        "  new_path = new_name[0]+'.wav'\n",
        "  os.rename(out_path, new_path)\n",
        "  return new_path\n",
        "\n",
        "# Path to Veritasium - The Most Radioactive Places on Earth\n",
        "video_path = 'https://www.youtube.com/watch?v=TRL7o2kPqw0'\n",
        "audio_path = download_wav(video_path)\n",
        "audio, Fs = librosa.load(audio_path)\n",
        "display(Audio(audio_path, autoplay=False))"
      ],
      "metadata": {
        "id": "a-yHoAbmDcCJ"
      },
      "execution_count": null,
      "outputs": []
    }
  ]
}